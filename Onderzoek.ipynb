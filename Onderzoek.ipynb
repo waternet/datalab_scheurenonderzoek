{
 "cells": [
  {
   "cell_type": "markdown",
   "metadata": {},
   "source": [
    "# Scheurvorming bij dijken\n",
    "\n",
    "In deze Jupyter Notebook kijken we naar de beschikbare data omtrent scheurvorming bij dijken en of daar statistische verbanden te vinden zijn."
   ]
  },
  {
   "cell_type": "code",
   "execution_count": 1,
   "metadata": {},
   "outputs": [],
   "source": [
    "import pandas as pd\n",
    "import seaborn as sns"
   ]
  },
  {
   "cell_type": "code",
   "execution_count": 2,
   "metadata": {},
   "outputs": [],
   "source": [
    "df = pd.read_csv('data/Droogte onderzoek.csv', sep='|')"
   ]
  },
  {
   "cell_type": "markdown",
   "metadata": {},
   "source": [
    "Eerst maar eens kijken wat we voor data hebben."
   ]
  },
  {
   "cell_type": "code",
   "execution_count": 3,
   "metadata": {
    "scrolled": true
   },
   "outputs": [
    {
     "data": {
      "text/html": [
       "<div>\n",
       "<style scoped>\n",
       "    .dataframe tbody tr th:only-of-type {\n",
       "        vertical-align: middle;\n",
       "    }\n",
       "\n",
       "    .dataframe tbody tr th {\n",
       "        vertical-align: top;\n",
       "    }\n",
       "\n",
       "    .dataframe thead th {\n",
       "        text-align: right;\n",
       "    }\n",
       "</style>\n",
       "<table border=\"1\" class=\"dataframe\">\n",
       "  <thead>\n",
       "    <tr style=\"text-align: right;\">\n",
       "      <th></th>\n",
       "      <th>Dijkcode en naam</th>\n",
       "      <th>Periode ophogen</th>\n",
       "      <th>Omschrijving bijzondere zaken</th>\n",
       "      <th>van</th>\n",
       "      <th>tot</th>\n",
       "      <th>Lengte</th>\n",
       "      <th>dijkdeel K, BT of B</th>\n",
       "      <th>bovgr terug of zw gr erop</th>\n",
       "      <th>mate scheuren wk 32/18</th>\n",
       "      <th>grasmat kwaliteit wk32/18</th>\n",
       "      <th>mate scheuren 2e ronde wk 43/18</th>\n",
       "      <th>grasmat kwaliteit 2e ronde wk 43/18</th>\n",
       "      <th>Opmerking</th>\n",
       "      <th>dr stog tov tot gew</th>\n",
       "      <th>vocht tov tot gewicht</th>\n",
       "      <th>Vocht tov dr stof</th>\n",
       "      <th>diepte tov mv</th>\n",
       "      <th>ref monster</th>\n",
       "      <th>metrering monster</th>\n",
       "    </tr>\n",
       "  </thead>\n",
       "  <tbody>\n",
       "    <tr>\n",
       "      <th>0</th>\n",
       "      <td>A2014 Hogendijk west (echte onversterkte veend...</td>\n",
       "      <td>Feb – mrt18 m200-3125</td>\n",
       "      <td>Ingezaaid apr – mei 18</td>\n",
       "      <td>300.0</td>\n",
       "      <td>350.0</td>\n",
       "      <td>50</td>\n",
       "      <td>kruin</td>\n",
       "      <td>nee</td>\n",
       "      <td>geen</td>\n",
       "      <td>matig  gras</td>\n",
       "      <td>nvt</td>\n",
       "      <td>nvt</td>\n",
       "      <td>NaN</td>\n",
       "      <td>NaN</td>\n",
       "      <td>NaN</td>\n",
       "      <td>NaN</td>\n",
       "      <td>NaN</td>\n",
       "      <td>NaN</td>\n",
       "      <td>NaN</td>\n",
       "    </tr>\n",
       "    <tr>\n",
       "      <th>1</th>\n",
       "      <td>A2014 Hogendijk west (echte onversterkte veend...</td>\n",
       "      <td>Feb – mrt18 m200-3125</td>\n",
       "      <td>Ingezaaid apr – mei 18</td>\n",
       "      <td>300.0</td>\n",
       "      <td>350.0</td>\n",
       "      <td>50</td>\n",
       "      <td>binnentalud</td>\n",
       "      <td>nee</td>\n",
       "      <td>geen</td>\n",
       "      <td>Slecht gras</td>\n",
       "      <td>nvt</td>\n",
       "      <td>nvt</td>\n",
       "      <td>NaN</td>\n",
       "      <td>NaN</td>\n",
       "      <td>NaN</td>\n",
       "      <td>NaN</td>\n",
       "      <td>NaN</td>\n",
       "      <td>NaN</td>\n",
       "      <td>NaN</td>\n",
       "    </tr>\n",
       "    <tr>\n",
       "      <th>2</th>\n",
       "      <td>A2014 Hogendijk west (echte onversterkte veend...</td>\n",
       "      <td>Feb – mrt18 m200-3125</td>\n",
       "      <td>Ingezaaid apr – mei 18</td>\n",
       "      <td>300.0</td>\n",
       "      <td>350.0</td>\n",
       "      <td>50</td>\n",
       "      <td>Berm</td>\n",
       "      <td>nee</td>\n",
       "      <td>geen</td>\n",
       "      <td>matig  gras</td>\n",
       "      <td>nvt</td>\n",
       "      <td>nvt</td>\n",
       "      <td>NaN</td>\n",
       "      <td>NaN</td>\n",
       "      <td>NaN</td>\n",
       "      <td>NaN</td>\n",
       "      <td>NaN</td>\n",
       "      <td>NaN</td>\n",
       "      <td>NaN</td>\n",
       "    </tr>\n",
       "    <tr>\n",
       "      <th>3</th>\n",
       "      <td>A2014 Hogendijk west (echte onversterkte veend...</td>\n",
       "      <td>Feb – mrt18 m200-3125</td>\n",
       "      <td>Ingezaaid apr – mei 18</td>\n",
       "      <td>350.0</td>\n",
       "      <td>400.0</td>\n",
       "      <td>50</td>\n",
       "      <td>kruin</td>\n",
       "      <td>nee</td>\n",
       "      <td>geen</td>\n",
       "      <td>matig  gras</td>\n",
       "      <td>nvt</td>\n",
       "      <td>nvt</td>\n",
       "      <td>NaN</td>\n",
       "      <td>NaN</td>\n",
       "      <td>NaN</td>\n",
       "      <td>NaN</td>\n",
       "      <td>NaN</td>\n",
       "      <td>NaN</td>\n",
       "      <td>NaN</td>\n",
       "    </tr>\n",
       "    <tr>\n",
       "      <th>4</th>\n",
       "      <td>A2014 Hogendijk west (echte onversterkte veend...</td>\n",
       "      <td>Feb – mrt18 m200-3125</td>\n",
       "      <td>Ingezaaid apr – mei 18</td>\n",
       "      <td>350.0</td>\n",
       "      <td>400.0</td>\n",
       "      <td>50</td>\n",
       "      <td>binnentalud</td>\n",
       "      <td>nee</td>\n",
       "      <td>geen</td>\n",
       "      <td>Slecht gras</td>\n",
       "      <td>nvt</td>\n",
       "      <td>nvt</td>\n",
       "      <td>NaN</td>\n",
       "      <td>NaN</td>\n",
       "      <td>NaN</td>\n",
       "      <td>NaN</td>\n",
       "      <td>NaN</td>\n",
       "      <td>NaN</td>\n",
       "      <td>NaN</td>\n",
       "    </tr>\n",
       "  </tbody>\n",
       "</table>\n",
       "</div>"
      ],
      "text/plain": [
       "                                    Dijkcode en naam        Periode ophogen  \\\n",
       "0  A2014 Hogendijk west (echte onversterkte veend...  Feb – mrt18 m200-3125   \n",
       "1  A2014 Hogendijk west (echte onversterkte veend...  Feb – mrt18 m200-3125   \n",
       "2  A2014 Hogendijk west (echte onversterkte veend...  Feb – mrt18 m200-3125   \n",
       "3  A2014 Hogendijk west (echte onversterkte veend...  Feb – mrt18 m200-3125   \n",
       "4  A2014 Hogendijk west (echte onversterkte veend...  Feb – mrt18 m200-3125   \n",
       "\n",
       "  Omschrijving bijzondere zaken    van    tot Lengte dijkdeel K, BT of B  \\\n",
       "0        Ingezaaid apr – mei 18  300.0  350.0     50               kruin   \n",
       "1        Ingezaaid apr – mei 18  300.0  350.0     50         binnentalud   \n",
       "2        Ingezaaid apr – mei 18  300.0  350.0     50                Berm   \n",
       "3        Ingezaaid apr – mei 18  350.0  400.0     50               kruin   \n",
       "4        Ingezaaid apr – mei 18  350.0  400.0     50         binnentalud   \n",
       "\n",
       "  bovgr terug of zw gr erop mate scheuren wk 32/18 grasmat kwaliteit wk32/18  \\\n",
       "0                       nee                   geen               matig  gras   \n",
       "1                       nee                   geen               Slecht gras   \n",
       "2                       nee                   geen               matig  gras   \n",
       "3                       nee                   geen               matig  gras   \n",
       "4                       nee                   geen               Slecht gras   \n",
       "\n",
       "  mate scheuren 2e ronde wk 43/18 grasmat kwaliteit 2e ronde wk 43/18  \\\n",
       "0                             nvt                                 nvt   \n",
       "1                             nvt                                 nvt   \n",
       "2                             nvt                                 nvt   \n",
       "3                             nvt                                 nvt   \n",
       "4                             nvt                                 nvt   \n",
       "\n",
       "  Opmerking dr stog tov tot gew vocht tov tot gewicht Vocht tov dr stof  \\\n",
       "0       NaN                 NaN                   NaN               NaN   \n",
       "1       NaN                 NaN                   NaN               NaN   \n",
       "2       NaN                 NaN                   NaN               NaN   \n",
       "3       NaN                 NaN                   NaN               NaN   \n",
       "4       NaN                 NaN                   NaN               NaN   \n",
       "\n",
       "  diepte tov mv ref monster  metrering monster  \n",
       "0           NaN         NaN                NaN  \n",
       "1           NaN         NaN                NaN  \n",
       "2           NaN         NaN                NaN  \n",
       "3           NaN         NaN                NaN  \n",
       "4           NaN         NaN                NaN  "
      ]
     },
     "execution_count": 3,
     "metadata": {},
     "output_type": "execute_result"
    }
   ],
   "source": [
    "df.head(5)"
   ]
  },
  {
   "cell_type": "markdown",
   "metadata": {},
   "source": [
    "Er lijken nogal wat NaN aanwezig te zijn (geen data), we kijken naar het percentage NaNs per kolom"
   ]
  },
  {
   "cell_type": "code",
   "execution_count": 4,
   "metadata": {},
   "outputs": [
    {
     "data": {
      "text/plain": [
       "Dijkcode en naam                        2.158273\n",
       "Periode ophogen                         8.273381\n",
       "Omschrijving bijzondere zaken           5.395683\n",
       "van                                     2.158273\n",
       "tot                                     2.158273\n",
       "Lengte                                  0.719424\n",
       "dijkdeel K, BT of B                     1.079137\n",
       "bovgr terug of zw gr erop               2.158273\n",
       "mate scheuren wk 32/18                  2.158273\n",
       "grasmat kwaliteit wk32/18               2.158273\n",
       "mate scheuren 2e ronde wk 43/18         2.158273\n",
       "grasmat kwaliteit 2e ronde wk 43/18     2.158273\n",
       "Opmerking                              58.273381\n",
       "dr stog tov tot gew                    92.446043\n",
       "vocht tov tot gewicht                  92.805755\n",
       "Vocht tov dr stof                      92.805755\n",
       "diepte tov mv                          92.805755\n",
       "ref monster                            92.805755\n",
       "metrering monster                      92.805755\n",
       "dtype: float64"
      ]
     },
     "execution_count": 4,
     "metadata": {},
     "output_type": "execute_result"
    }
   ],
   "source": [
    "df.isna().sum() / df.shape[0] * 100"
   ]
  },
  {
   "cell_type": "markdown",
   "metadata": {},
   "source": [
    "We kunnen constateren dat we met de laatste 7 kolommen wat de algehele waarnemingen betreft niet zoveel kunnen aangezien er meer dan 58 en soms 92% van de data mist. Later kunnen we hier nog specifiek naar kijken maar voor nu halen we die kolommen even weg."
   ]
  },
  {
   "cell_type": "code",
   "execution_count": 5,
   "metadata": {},
   "outputs": [],
   "source": [
    "df.drop(df.columns[df.shape[1]-7:df.shape[1]].values, axis=1, inplace=True)"
   ]
  },
  {
   "cell_type": "markdown",
   "metadata": {},
   "source": [
    "We hebben ook nog wat data die niet direct bijdraagt aan een statistische benadering (bv locatie, van, tot, lengte), die zetten we ook even opzij voor nu. Ook teksten van de omschrijvingen zijn niet direct te gebruiken. Om dit alsnog te gebruiken zouden we de teksten moeten analyseren en kijken of we daar specifieke categorien of datums van kunnen maken. Voor nu gooien we die kolommen weg."
   ]
  },
  {
   "cell_type": "code",
   "execution_count": 6,
   "metadata": {},
   "outputs": [],
   "source": [
    "df.drop(['van','tot','Lengte','Omschrijving bijzondere zaken','Dijkcode en naam','Periode ophogen'], axis=1, inplace=True)"
   ]
  },
  {
   "cell_type": "markdown",
   "metadata": {},
   "source": [
    "Eens kijken wat we nu overhouden"
   ]
  },
  {
   "cell_type": "code",
   "execution_count": 7,
   "metadata": {},
   "outputs": [
    {
     "data": {
      "text/html": [
       "<div>\n",
       "<style scoped>\n",
       "    .dataframe tbody tr th:only-of-type {\n",
       "        vertical-align: middle;\n",
       "    }\n",
       "\n",
       "    .dataframe tbody tr th {\n",
       "        vertical-align: top;\n",
       "    }\n",
       "\n",
       "    .dataframe thead th {\n",
       "        text-align: right;\n",
       "    }\n",
       "</style>\n",
       "<table border=\"1\" class=\"dataframe\">\n",
       "  <thead>\n",
       "    <tr style=\"text-align: right;\">\n",
       "      <th></th>\n",
       "      <th>dijkdeel K, BT of B</th>\n",
       "      <th>bovgr terug of zw gr erop</th>\n",
       "      <th>mate scheuren wk 32/18</th>\n",
       "      <th>grasmat kwaliteit wk32/18</th>\n",
       "      <th>mate scheuren 2e ronde wk 43/18</th>\n",
       "      <th>grasmat kwaliteit 2e ronde wk 43/18</th>\n",
       "    </tr>\n",
       "  </thead>\n",
       "  <tbody>\n",
       "    <tr>\n",
       "      <th>0</th>\n",
       "      <td>kruin</td>\n",
       "      <td>nee</td>\n",
       "      <td>geen</td>\n",
       "      <td>matig  gras</td>\n",
       "      <td>nvt</td>\n",
       "      <td>nvt</td>\n",
       "    </tr>\n",
       "    <tr>\n",
       "      <th>1</th>\n",
       "      <td>binnentalud</td>\n",
       "      <td>nee</td>\n",
       "      <td>geen</td>\n",
       "      <td>Slecht gras</td>\n",
       "      <td>nvt</td>\n",
       "      <td>nvt</td>\n",
       "    </tr>\n",
       "    <tr>\n",
       "      <th>2</th>\n",
       "      <td>Berm</td>\n",
       "      <td>nee</td>\n",
       "      <td>geen</td>\n",
       "      <td>matig  gras</td>\n",
       "      <td>nvt</td>\n",
       "      <td>nvt</td>\n",
       "    </tr>\n",
       "    <tr>\n",
       "      <th>3</th>\n",
       "      <td>kruin</td>\n",
       "      <td>nee</td>\n",
       "      <td>geen</td>\n",
       "      <td>matig  gras</td>\n",
       "      <td>nvt</td>\n",
       "      <td>nvt</td>\n",
       "    </tr>\n",
       "    <tr>\n",
       "      <th>4</th>\n",
       "      <td>binnentalud</td>\n",
       "      <td>nee</td>\n",
       "      <td>geen</td>\n",
       "      <td>Slecht gras</td>\n",
       "      <td>nvt</td>\n",
       "      <td>nvt</td>\n",
       "    </tr>\n",
       "  </tbody>\n",
       "</table>\n",
       "</div>"
      ],
      "text/plain": [
       "  dijkdeel K, BT of B bovgr terug of zw gr erop mate scheuren wk 32/18  \\\n",
       "0               kruin                       nee                   geen   \n",
       "1         binnentalud                       nee                   geen   \n",
       "2                Berm                       nee                   geen   \n",
       "3               kruin                       nee                   geen   \n",
       "4         binnentalud                       nee                   geen   \n",
       "\n",
       "  grasmat kwaliteit wk32/18 mate scheuren 2e ronde wk 43/18  \\\n",
       "0               matig  gras                             nvt   \n",
       "1               Slecht gras                             nvt   \n",
       "2               matig  gras                             nvt   \n",
       "3               matig  gras                             nvt   \n",
       "4               Slecht gras                             nvt   \n",
       "\n",
       "  grasmat kwaliteit 2e ronde wk 43/18  \n",
       "0                                 nvt  \n",
       "1                                 nvt  \n",
       "2                                 nvt  \n",
       "3                                 nvt  \n",
       "4                                 nvt  "
      ]
     },
     "execution_count": 7,
     "metadata": {},
     "output_type": "execute_result"
    }
   ],
   "source": [
    "df.head(5)"
   ]
  },
  {
   "cell_type": "markdown",
   "metadata": {},
   "source": [
    "De mate van scheuren is wat ons resultaat moet zijn. De rest van de overgebleven waarnemingen zijn onze directe input. We zien hier 2 resultaten, de scheuren op 32/18 en 43/18. We gaan eerst eens kijken of dijkdeel en bovengrond terug statisch herleidbaar zijn naar het resultaat van de mate van scheuren.\n",
    "\n",
    "Eerst zorgen we ervoor dat we de resultaten van 32/18 en 43/18 tot een datum onafhankelijke verzameling wordt. Voor een makkelijkere verwerking hernoemen we de kolommen."
   ]
  },
  {
   "cell_type": "code",
   "execution_count": 8,
   "metadata": {},
   "outputs": [],
   "source": [
    "df.columns = ['dijkdeel','bovengrond','mate32','gras32','mate43','gras43']"
   ]
  },
  {
   "cell_type": "markdown",
   "metadata": {},
   "source": [
    "Dat is makkelijker.. nu gaan we de resultaten van 32 en 43 bij elkaar voegen (en checken of dat werkt!)"
   ]
  },
  {
   "cell_type": "code",
   "execution_count": 9,
   "metadata": {},
   "outputs": [
    {
     "name": "stdout",
     "output_type": "stream",
     "text": [
      "Aantal rijen in df32 278\n",
      "Aantal rijen in df43 278\n",
      "Resulterend aantal rijen in uiteindelijke dataframe 556\n",
      "      dijkdeel bovengrond  mate         gras\n",
      "0        kruin        nee  geen  matig  gras\n",
      "1  binnentalud        nee  geen  Slecht gras\n",
      "2         Berm        nee  geen  matig  gras\n",
      "3        kruin        nee  geen  matig  gras\n",
      "4  binnentalud        nee  geen  Slecht gras\n"
     ]
    }
   ],
   "source": [
    "df32 = df[['dijkdeel','bovengrond','mate32','gras32']]\n",
    "df43 = df[['dijkdeel','bovengrond','mate43','gras43']]\n",
    "df32.columns=['dijkdeel','bovengrond','mate','gras']\n",
    "df43.columns=['dijkdeel','bovengrond','mate','gras']\n",
    "print(\"Aantal rijen in df32\", df32.shape[0])\n",
    "print(\"Aantal rijen in df43\", df43.shape[0])\n",
    "df = df32.append(df43)\n",
    "print(\"Resulterend aantal rijen in uiteindelijke dataframe\", df.shape[0])\n",
    "print(df.head(5))"
   ]
  },
  {
   "cell_type": "markdown",
   "metadata": {},
   "source": [
    "Dat ziet er goed uit. Nu moeten we kijken of in alle kolommen gebruik is gemaakt van consequente benaming."
   ]
  },
  {
   "cell_type": "code",
   "execution_count": 10,
   "metadata": {},
   "outputs": [
    {
     "name": "stdout",
     "output_type": "stream",
     "text": [
      "Unieke waarden voor kolom dijkdeel\n",
      "['kruin' 'binnentalud' 'Berm' nan 'berm' 'goed' 'matig' 'slecht'\n",
      " 'uitstekend']\n",
      "Unieke waarden voor kolom bovengrond\n",
      "['nee' 'ja' 'nvt' nan]\n",
      "Unieke waarden voor kolom mate\n",
      "['geen' 'weinig' 'matig' 'nvt' 'veel' nan]\n",
      "Unieke waarden voor kolom gras\n",
      "['matig  gras' 'Slecht gras' 'goed gras' 'uitstekend gras' 'nvt' nan]\n"
     ]
    }
   ],
   "source": [
    "for column in df.columns:\n",
    "    print(\"Unieke waarden voor kolom\", column)\n",
    "    print(df[column].unique())"
   ]
  },
  {
   "cell_type": "markdown",
   "metadata": {},
   "source": [
    "* We zien Berm en berm voor dijkdeel, dat moeten we oplossen\n",
    "* Kolom bovengrond is ok\n",
    "* Kolom mate is ok al kun je nvt als NaN beschouwen\n",
    "* Kolom gras is ok al kun je nvt als NaN beschouwen\n",
    "\n",
    "Kortom, we moeten twee zaken doen, Berm en berm samenvoegen en de NaN en nvt rijen weghalen en kijken wat we overhouden. De eerste actie doen we door alles lowercase te maken.. leest ook makkelijker."
   ]
  },
  {
   "cell_type": "code",
   "execution_count": 11,
   "metadata": {},
   "outputs": [
    {
     "data": {
      "text/html": [
       "<div>\n",
       "<style scoped>\n",
       "    .dataframe tbody tr th:only-of-type {\n",
       "        vertical-align: middle;\n",
       "    }\n",
       "\n",
       "    .dataframe tbody tr th {\n",
       "        vertical-align: top;\n",
       "    }\n",
       "\n",
       "    .dataframe thead th {\n",
       "        text-align: right;\n",
       "    }\n",
       "</style>\n",
       "<table border=\"1\" class=\"dataframe\">\n",
       "  <thead>\n",
       "    <tr style=\"text-align: right;\">\n",
       "      <th></th>\n",
       "      <th>dijkdeel</th>\n",
       "      <th>bovengrond</th>\n",
       "      <th>mate</th>\n",
       "      <th>gras</th>\n",
       "    </tr>\n",
       "  </thead>\n",
       "  <tbody>\n",
       "    <tr>\n",
       "      <th>0</th>\n",
       "      <td>kruin</td>\n",
       "      <td>nee</td>\n",
       "      <td>geen</td>\n",
       "      <td>matig  gras</td>\n",
       "    </tr>\n",
       "    <tr>\n",
       "      <th>1</th>\n",
       "      <td>binnentalud</td>\n",
       "      <td>nee</td>\n",
       "      <td>geen</td>\n",
       "      <td>slecht gras</td>\n",
       "    </tr>\n",
       "    <tr>\n",
       "      <th>2</th>\n",
       "      <td>berm</td>\n",
       "      <td>nee</td>\n",
       "      <td>geen</td>\n",
       "      <td>matig  gras</td>\n",
       "    </tr>\n",
       "    <tr>\n",
       "      <th>3</th>\n",
       "      <td>kruin</td>\n",
       "      <td>nee</td>\n",
       "      <td>geen</td>\n",
       "      <td>matig  gras</td>\n",
       "    </tr>\n",
       "    <tr>\n",
       "      <th>4</th>\n",
       "      <td>binnentalud</td>\n",
       "      <td>nee</td>\n",
       "      <td>geen</td>\n",
       "      <td>slecht gras</td>\n",
       "    </tr>\n",
       "  </tbody>\n",
       "</table>\n",
       "</div>"
      ],
      "text/plain": [
       "      dijkdeel bovengrond  mate         gras\n",
       "0        kruin        nee  geen  matig  gras\n",
       "1  binnentalud        nee  geen  slecht gras\n",
       "2         berm        nee  geen  matig  gras\n",
       "3        kruin        nee  geen  matig  gras\n",
       "4  binnentalud        nee  geen  slecht gras"
      ]
     },
     "execution_count": 11,
     "metadata": {},
     "output_type": "execute_result"
    }
   ],
   "source": [
    "for column in df.columns:\n",
    "    df[column] = df[column].str.lower()\n",
    "df.head()"
   ]
  },
  {
   "cell_type": "markdown",
   "metadata": {},
   "source": [
    "Nu de NaNs en nvt rijen verwijderen."
   ]
  },
  {
   "cell_type": "code",
   "execution_count": 12,
   "metadata": {},
   "outputs": [
    {
     "name": "stdout",
     "output_type": "stream",
     "text": [
      "Voor het verwijderen van NaN hebben we 556 rijen\n",
      "Na het verwijderen van NaN hebben we 542 rijen\n"
     ]
    }
   ],
   "source": [
    "print(\"Voor het verwijderen van NaN hebben we {} rijen\".format(df.shape[0]))\n",
    "df.dropna(inplace=True)\n",
    "print(\"Na het verwijderen van NaN hebben we {} rijen\".format(df.shape[0]))"
   ]
  },
  {
   "cell_type": "code",
   "execution_count": 13,
   "metadata": {},
   "outputs": [
    {
     "name": "stdout",
     "output_type": "stream",
     "text": [
      "Voor het verwijderen van nvt hebben we 542 rijen\n",
      "Na het verwijderen van nvt hebben we 365 rijen\n"
     ]
    }
   ],
   "source": [
    "print(\"Voor het verwijderen van nvt hebben we {} rijen\".format(df.shape[0]))\n",
    "for column in df.columns:\n",
    "    df = df[df[column]!='nvt']\n",
    "print(\"Na het verwijderen van nvt hebben we {} rijen\".format(df.shape[0]))"
   ]
  },
  {
   "cell_type": "markdown",
   "metadata": {},
   "source": [
    "Check of we nu enkel nog zinvolle rijen over hebben."
   ]
  },
  {
   "cell_type": "code",
   "execution_count": 14,
   "metadata": {},
   "outputs": [
    {
     "name": "stdout",
     "output_type": "stream",
     "text": [
      "Unieke waarden voor kolom dijkdeel\n",
      "['kruin' 'binnentalud' 'berm']\n",
      "Unieke waarden voor kolom bovengrond\n",
      "['nee' 'ja']\n",
      "Unieke waarden voor kolom mate\n",
      "['geen' 'weinig' 'matig' 'veel']\n",
      "Unieke waarden voor kolom gras\n",
      "['matig  gras' 'slecht gras' 'goed gras' 'uitstekend gras']\n"
     ]
    }
   ],
   "source": [
    "for column in df.columns:\n",
    "    print(\"Unieke waarden voor kolom\", column)\n",
    "    print(df[column].unique())"
   ]
  },
  {
   "cell_type": "code",
   "execution_count": 15,
   "metadata": {},
   "outputs": [
    {
     "data": {
      "text/html": [
       "<div>\n",
       "<style scoped>\n",
       "    .dataframe tbody tr th:only-of-type {\n",
       "        vertical-align: middle;\n",
       "    }\n",
       "\n",
       "    .dataframe tbody tr th {\n",
       "        vertical-align: top;\n",
       "    }\n",
       "\n",
       "    .dataframe thead th {\n",
       "        text-align: right;\n",
       "    }\n",
       "</style>\n",
       "<table border=\"1\" class=\"dataframe\">\n",
       "  <thead>\n",
       "    <tr style=\"text-align: right;\">\n",
       "      <th></th>\n",
       "      <th>dijkdeel</th>\n",
       "      <th>bovengrond</th>\n",
       "      <th>mate</th>\n",
       "      <th>gras</th>\n",
       "    </tr>\n",
       "  </thead>\n",
       "  <tbody>\n",
       "    <tr>\n",
       "      <th>0</th>\n",
       "      <td>kruin</td>\n",
       "      <td>nee</td>\n",
       "      <td>geen</td>\n",
       "      <td>matig  gras</td>\n",
       "    </tr>\n",
       "    <tr>\n",
       "      <th>1</th>\n",
       "      <td>binnentalud</td>\n",
       "      <td>nee</td>\n",
       "      <td>geen</td>\n",
       "      <td>slecht gras</td>\n",
       "    </tr>\n",
       "    <tr>\n",
       "      <th>2</th>\n",
       "      <td>berm</td>\n",
       "      <td>nee</td>\n",
       "      <td>geen</td>\n",
       "      <td>matig  gras</td>\n",
       "    </tr>\n",
       "    <tr>\n",
       "      <th>3</th>\n",
       "      <td>kruin</td>\n",
       "      <td>nee</td>\n",
       "      <td>geen</td>\n",
       "      <td>matig  gras</td>\n",
       "    </tr>\n",
       "    <tr>\n",
       "      <th>4</th>\n",
       "      <td>binnentalud</td>\n",
       "      <td>nee</td>\n",
       "      <td>geen</td>\n",
       "      <td>slecht gras</td>\n",
       "    </tr>\n",
       "  </tbody>\n",
       "</table>\n",
       "</div>"
      ],
      "text/plain": [
       "      dijkdeel bovengrond  mate         gras\n",
       "0        kruin        nee  geen  matig  gras\n",
       "1  binnentalud        nee  geen  slecht gras\n",
       "2         berm        nee  geen  matig  gras\n",
       "3        kruin        nee  geen  matig  gras\n",
       "4  binnentalud        nee  geen  slecht gras"
      ]
     },
     "execution_count": 15,
     "metadata": {},
     "output_type": "execute_result"
    }
   ],
   "source": [
    "df.head()"
   ]
  },
  {
   "cell_type": "markdown",
   "metadata": {},
   "source": [
    "Laten we eens kijken naar de verdeling van het dijkdeel en de gevonden graskwaliteit. Hiertoe moeten we wel even numerieke waarden aan de kwaliteit toevoegen waarbij we slecht gras = 0 en uitstekend gras = 3 aanhouden. We vinden \n",
    "trouwens ook dat er slecht gras en slecht  gras bestaat (2 spaties), dat corrigeren we hierbij."
   ]
  },
  {
   "cell_type": "code",
   "execution_count": 16,
   "metadata": {},
   "outputs": [],
   "source": [
    "df2 = df.copy()\n",
    "df2['gras'] = df2['gras'].replace(['slecht  gras'], 0)\n",
    "df2['gras'] = df2['gras'].replace(['slecht gras'], 0)\n",
    "df2['gras'] = df2['gras'].replace(['matig  gras'], 1)\n",
    "df2['gras'] = df2['gras'].replace(['goed gras'], 2)\n",
    "df2['gras'] = df2['gras'].replace(['uitstekend gras'], 3)"
   ]
  },
  {
   "cell_type": "code",
   "execution_count": 20,
   "metadata": {},
   "outputs": [
    {
     "data": {
      "image/png": "[encoded data removed]",
      "text/plain": [
       "<Figure size 360x360 with 1 Axes>"
      ]
     },
     "metadata": {
      "needs_background": "light"
     },
     "output_type": "display_data"
    }
   ],
   "source": [
    "_ = sns.catplot(x='dijkdeel',y='gras', kind=\"violin\", palette=\"pastel\", data=df2)"
   ]
  },
  {
   "cell_type": "markdown",
   "metadata": {},
   "source": [
    "Je leest de plot als volgt; een dik deel van de violin plot is een plek waar veel waarnemingen zijn gevonden, als de voilin plot dunner wordt dan zijn van die klasse minder waarnemingen gevonden. De dikke plot bij de berm rond waarde 2 betekent dus dat er veel waarnemingen van goed gras zijn bij de berm.\n",
    "\n",
    "**Een conclusie is dat de kwaliteit van het bermgras beter scoort dan die op de kruin en het binnentalud en dat de kwaliteit van de kruin of het binnentalud gelijkwaardig verdeeld is.**\n",
    "\n",
    "Laten we eens kijken of er een relatie is tussen dijkdeel en gevonden scheuren. Hiertoe moeten we de mate ook numeriek maken via\n",
    "* geen = 3\n",
    "* weinig = 2\n",
    "* matig = 1\n",
    "* veel = 0"
   ]
  },
  {
   "cell_type": "code",
   "execution_count": 18,
   "metadata": {},
   "outputs": [],
   "source": [
    "df3 = df.copy()\n",
    "df3['mate'] = df3['mate'].replace(['veel'], 0)\n",
    "df3['mate'] = df3['mate'].replace(['matig'], 1)\n",
    "df3['mate'] = df3['mate'].replace(['weinig'], 2)\n",
    "df3['mate'] = df3['mate'].replace(['geen'], 3)"
   ]
  },
  {
   "cell_type": "code",
   "execution_count": 22,
   "metadata": {},
   "outputs": [
    {
     "data": {
      "image/png": "[encoded data removed]",
      "text/plain": [
       "<Figure size 360x360 with 1 Axes>"
      ]
     },
     "metadata": {
      "needs_background": "light"
     },
     "output_type": "display_data"
    }
   ],
   "source": [
    "_ = sns.catplot(x='dijkdeel',y='mate', kind=\"violin\", palette=\"pastel\", data=df3)"
   ]
  },
  {
   "cell_type": "markdown",
   "metadata": {},
   "source": [
    "Uit de bovenstaande plot blijkt dat er weinig verschil in distributie zit tussen de locatie van het dijkdeel en de gevonden mate van scheuren al is bij de berm te zien dat hier relatief beter gescoord wordt dan op de andere locaties.\n",
    "\n",
    "We kijken ook nog even naar de relatie tussen de kwaliteit van het gras en de mate van scheuren."
   ]
  },
  {
   "cell_type": "code",
   "execution_count": 26,
   "metadata": {},
   "outputs": [
    {
     "data": {
      "image/png": "[encoded data removed]",
      "text/plain": [
       "<Figure size 360x360 with 1 Axes>"
      ]
     },
     "metadata": {
      "needs_background": "light"
     },
     "output_type": "display_data"
    }
   ],
   "source": [
    "_ = sns.catplot(x='gras',y='mate', kind=\"violin\", palette=\"pastel\", data=df3, order=[\"slecht gras\", 'matig  gras', 'goed gras', 'uitstekend gras'],)"
   ]
  },
  {
   "cell_type": "markdown",
   "metadata": {},
   "source": [
    "Uit de bovenstaande plot kunnen we opmaken dat de kwaliteit van het gras een indicatie is van de mate van scheuren. Dit valt bijvoorbeeld te zien doordat bij slecht gras de distributie ook in de onderzijde zit. \n",
    "\n",
    "Bij uitstekend gras zien we de staart van de violin plot naar onderen ook afnemen wat inhoudt dat er minder slechte mate van scheuren gevonden zijn.\n",
    "\n",
    "Er blijven echter voldoende plekken over waar er slecht gras is maar de mate van scheuren toch ok is dus het is een indicatie, niet meer dan dat."
   ]
  },
  {
   "cell_type": "code",
   "execution_count": null,
   "metadata": {},
   "outputs": [],
   "source": []
  }
 ],
 "metadata": {
  "kernelspec": {
   "display_name": "Python 3",
   "language": "python",
   "name": "python3"
  },
  "language_info": {
   "codemirror_mode": {
    "name": "ipython",
    "version": 3
   },
   "file_extension": ".py",
   "mimetype": "text/x-python",
   "name": "python",
   "nbconvert_exporter": "python",
   "pygments_lexer": "ipython3",
   "version": "3.6.6"
  }
 },
 "nbformat": 4,
 "nbformat_minor": 2
}
